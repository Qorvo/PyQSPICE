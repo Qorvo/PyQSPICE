{
 "cells": [
  {
   "cell_type": "code",
   "execution_count": 1,
   "id": "489ea066-19da-46dd-9ba8-427cb9473934",
   "metadata": {},
   "outputs": [
    {
     "name": "stdout",
     "output_type": "stream",
     "text": [
      "{'cwd': 'C:\\\\Users\\\\mn080015\\\\OneDrive - Qorvo\\\\Documents\\\\vp\\\\Masashi\\\\PyQSPICE\\\\tests\\\\20_AC', 'home': 'C:\\\\Users\\\\mn080015', 'QUX': 'C:\\\\Users\\\\mn080015/QSPICE/QUX.exe', 'QSPICE64': 'C:\\\\Users\\\\mn080015/QSPICE/QSPICE64.exe'}\n"
     ]
    }
   ],
   "source": [
    "from PyQSPICE import clsQSPICE as pqs\n",
    "\n",
    "import os\n",
    "import math\n",
    "import pandas as pd\n",
    "import matplotlib as mpl\n",
    "import matplotlib.pyplot as plt\n",
    "\n",
    "pqs.chdir(\"tests/20_AC\")\n",
    "print(pqs.gpath)"
   ]
  },
  {
   "cell_type": "code",
   "execution_count": 2,
   "id": "b032faec-71d9-42cc-a1ee-124868152ee2",
   "metadata": {},
   "outputs": [
    {
     "name": "stdout",
     "output_type": "stream",
     "text": [
      "{'user': 'VRM_GainBW.qsch', 'base': 'VRM_GainBW', 'qsch': 'VRM_GainBW.qsch', 'qraw': 'VRM_GainBW.qraw', 'cir': 'VRM_GainBW.cir'}\n"
     ]
    }
   ],
   "source": [
    "run = pqs(\"VRM_GainBW.qsch\")\n",
    "print(run.path)"
   ]
  },
  {
   "cell_type": "code",
   "execution_count": 3,
   "id": "74d4f1d4-3eb1-4598-9444-e1e750239d1f",
   "metadata": {},
   "outputs": [
    {
     "name": "stdout",
     "output_type": "stream",
     "text": [
      "{'Nline': 4999, 'Nstep': 0}\n"
     ]
    }
   ],
   "source": [
    "print(run.sim)\n",
    "run.setNline(199)"
   ]
  },
  {
   "cell_type": "code",
   "execution_count": 4,
   "id": "ffd72be8-1d21-429d-ae3c-7834f82e77c5",
   "metadata": {},
   "outputs": [
    {
     "name": "stdout",
     "output_type": "stream",
     "text": [
      "{'Nline': 199, 'Nstep': 2, 'Type': 'AC Analysis', 'Xlbl': 'Freq', 'Xmin': 1.0, 'Xmax': 100000000.0, 'StepInfo': '.step param x list 0 1\\n'}\n",
      "{'qsch': 1696706623.0, 'qraw': 1696787169.0955212, 'cir': 1696787168.914118}\n",
      "{'qsch': datetime.datetime(2023, 10, 7, 15, 23, 43), 'qraw': datetime.datetime(2023, 10, 8, 13, 46, 9, 95521), 'cir': datetime.datetime(2023, 10, 8, 13, 46, 8, 914118)}\n"
     ]
    }
   ],
   "source": [
    "run.qsch2cir()\n",
    "run.cir2qraw()\n",
    "df = run.LoadQRAW([\"V(VOUT)\"])\n",
    "print(run.sim)\n",
    "print(run.ts)\n",
    "print(run.date)"
   ]
  },
  {
   "cell_type": "code",
   "execution_count": 5,
   "id": "df428256-a885-40ef-82b2-623288238864",
   "metadata": {},
   "outputs": [
    {
     "name": "stdout",
     "output_type": "stream",
     "text": [
      "             Freq                       V(VOUT)  Step        gain\n",
      "0    1.000000e+00  911837.335958- 11388.964345j   0.0  119.199025\n",
      "1    1.096986e+00  911798.215591- 12736.912744j   0.0  119.198822\n",
      "2    1.203378e+00  911752.322222- 14195.455127j   0.0  119.198590\n",
      "3    1.320088e+00  911698.242840- 15776.598004j   0.0  119.198323\n",
      "4    1.448118e+00  911634.327084- 17493.466022j   0.0  119.198012\n",
      "..            ...                           ...   ...         ...\n",
      "395  6.905514e+07      -0.000091-     0.009586j   1.0  -40.367113\n",
      "396  7.575250e+07      -0.000076-     0.008746j   1.0  -41.163222\n",
      "397  8.309942e+07      -0.000063-     0.007972j   1.0  -41.968396\n",
      "398  9.115888e+07      -0.000052-     0.007259j   1.0  -42.782042\n",
      "399  1.000000e+08      -0.000043-     0.006604j   1.0  -43.603625\n",
      "\n",
      "[400 rows x 4 columns]\n"
     ]
    }
   ],
   "source": [
    "def CalcGain(row):\n",
    "    row[\"gain\"] = 20*math.log10(abs(row[\"V(VOUT)\"]))\n",
    "    return row\n",
    "df = df.apply(CalcGain, axis=1)\n",
    "run.comp2real(df, [\"Step\", \"gain\", run.sim['Xlbl']])\n",
    "print(df)"
   ]
  },
  {
   "cell_type": "code",
   "execution_count": 6,
   "id": "3e4b0253-d691-4e81-8cd0-8f82cf1a9429",
   "metadata": {},
   "outputs": [
    {
     "name": "stdout",
     "output_type": "stream",
     "text": [
      "['20_AC.py', 'VRM_GainBW.cir', 'VRM_GainBW.qraw', 'VRM_GainBW.qsch', 'VRM_GainBW_plt.png']\n",
      "['20_AC.py', 'VRM_GainBW.qsch']\n"
     ]
    }
   ],
   "source": [
    "run.path['plt'] = run.path['base'] + \"_plt.png\"\n",
    "print(os.listdir(run.gpath['cwd']))\n",
    "run.clean([\"cir\",\"qraw\",\"plt\"])\n",
    "print(os.listdir(run.gpath['cwd']))"
   ]
  }
 ],
 "metadata": {
  "kernelspec": {
   "display_name": "Python 3 (ipykernel)",
   "language": "python",
   "name": "python3"
  },
  "language_info": {
   "codemirror_mode": {
    "name": "ipython",
    "version": 3
   },
   "file_extension": ".py",
   "mimetype": "text/x-python",
   "name": "python",
   "nbconvert_exporter": "python",
   "pygments_lexer": "ipython3",
   "version": "3.12.0"
  }
 },
 "nbformat": 4,
 "nbformat_minor": 5
}
